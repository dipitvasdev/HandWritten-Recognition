{
  "nbformat": 4,
  "nbformat_minor": 0,
  "metadata": {
    "colab": {
      "name": "UCI_ML_Digits with Naive Bayes",
      "provenance": []
    },
    "kernelspec": {
      "name": "python3",
      "display_name": "Python 3"
    },
    "accelerator": "GPU"
  },
  "cells": [
    {
      "cell_type": "markdown",
      "metadata": {
        "id": "iEMyX7Wr10bP",
        "colab_type": "text"
      },
      "source": [
        "## HandWritten Digit Recognition- Naive Bayes"
      ]
    },
    {
      "cell_type": "markdown",
      "metadata": {
        "id": "QgRbbVIg2IRj",
        "colab_type": "text"
      },
      "source": [
        "**Dataset(UCI-ML)loaded from sklearn , classified by Naive Bayes**\n",
        "\n",
        "**Updated April 6th 2020**"
      ]
    },
    {
      "cell_type": "markdown",
      "metadata": {
        "id": "V7Y0_siU2d3Y",
        "colab_type": "text"
      },
      "source": [
        "### Data Preparation"
      ]
    },
    {
      "cell_type": "code",
      "metadata": {
        "id": "ytd3EE5A033y",
        "colab_type": "code",
        "colab": {}
      },
      "source": [
        "from sklearn.datasets import load_digits\n",
        "from sklearn.model_selection import cross_val_score\n",
        "import numpy as np\n",
        "import matplotlib.pyplot as plt"
      ],
      "execution_count": 0,
      "outputs": []
    },
    {
      "cell_type": "code",
      "metadata": {
        "id": "NQB89mOX1ytc",
        "colab_type": "code",
        "colab": {}
      },
      "source": [
        "digits=load_digits()"
      ],
      "execution_count": 0,
      "outputs": []
    },
    {
      "cell_type": "code",
      "metadata": {
        "id": "XUgurRph2oHi",
        "colab_type": "code",
        "colab": {}
      },
      "source": [
        "X=digits.data\n",
        "y=digits.target"
      ],
      "execution_count": 0,
      "outputs": []
    },
    {
      "cell_type": "code",
      "metadata": {
        "id": "PfcN93vE2s3u",
        "colab_type": "code",
        "outputId": "21e39f4f-0de6-4e54-9784-32bccc71d2d8",
        "colab": {
          "base_uri": "https://localhost:8080/",
          "height": 50
        }
      },
      "source": [
        "print(X.shape)\n",
        "print(y.shape)"
      ],
      "execution_count": 4,
      "outputs": [
        {
          "output_type": "stream",
          "text": [
            "(1797, 64)\n",
            "(1797,)\n"
          ],
          "name": "stdout"
        }
      ]
    },
    {
      "cell_type": "markdown",
      "metadata": {
        "id": "RqZfWNsU2x7f",
        "colab_type": "text"
      },
      "source": [
        "### Visualising a few Images"
      ]
    },
    {
      "cell_type": "code",
      "metadata": {
        "id": "zN_QEY612vF9",
        "colab_type": "code",
        "outputId": "68c42fd0-b812-465d-fce2-a1157ca5c12a",
        "colab": {
          "base_uri": "https://localhost:8080/",
          "height": 282
        }
      },
      "source": [
        "plt.imshow(X[0].reshape((8,8)),cmap=\"gray\")\n",
        "print(y[0])\n",
        "plt.show()"
      ],
      "execution_count": 5,
      "outputs": [
        {
          "output_type": "stream",
          "text": [
            "0\n"
          ],
          "name": "stdout"
        },
        {
          "output_type": "display_data",
          "data": {
            "image/png": "[encoded data removed]",
            "text/plain": [
              "<Figure size 432x288 with 1 Axes>"
            ]
          },
          "metadata": {
            "tags": []
          }
        }
      ]
    },
    {
      "cell_type": "code",
      "metadata": {
        "id": "PmT3dENj28bz",
        "colab_type": "code",
        "outputId": "7b8cd0b8-63ad-4970-fced-5f6d40e8d3d7",
        "colab": {
          "base_uri": "https://localhost:8080/",
          "height": 84
        }
      },
      "source": [
        "print(X[0])"
      ],
      "execution_count": 6,
      "outputs": [
        {
          "output_type": "stream",
          "text": [
            "[ 0.  0.  5. 13.  9.  1.  0.  0.  0.  0. 13. 15. 10. 15.  5.  0.  0.  3.\n",
            " 15.  2.  0. 11.  8.  0.  0.  4. 12.  0.  0.  8.  8.  0.  0.  5.  8.  0.\n",
            "  0.  9.  8.  0.  0.  4. 11.  0.  1. 12.  7.  0.  0.  2. 14.  5. 10. 12.\n",
            "  0.  0.  0.  0.  6. 13. 10.  0.  0.  0.]\n"
          ],
          "name": "stdout"
        }
      ]
    },
    {
      "cell_type": "markdown",
      "metadata": {
        "id": "At-7Ykij5kla",
        "colab_type": "text"
      },
      "source": [
        "### Train Models"
      ]
    },
    {
      "cell_type": "code",
      "metadata": {
        "id": "hJZ2fmMi5L_5",
        "colab_type": "code",
        "colab": {}
      },
      "source": [
        "from sklearn.naive_bayes import GaussianNB,MultinomialNB"
      ],
      "execution_count": 0,
      "outputs": []
    },
    {
      "cell_type": "code",
      "metadata": {
        "id": "wRTJ-CTf5u_o",
        "colab_type": "code",
        "colab": {}
      },
      "source": [
        "mnb=MultinomialNB()\n",
        "gnb=GaussianNB()"
      ],
      "execution_count": 0,
      "outputs": []
    },
    {
      "cell_type": "code",
      "metadata": {
        "id": "OvOj4cxa53Rb",
        "colab_type": "code",
        "outputId": "8d0c63f5-7cd3-43ed-fa96-6b6f17adef48",
        "colab": {
          "base_uri": "https://localhost:8080/",
          "height": 50
        }
      },
      "source": [
        "# Train\n",
        "mnb.fit(X,y)\n",
        "print(mnb)\n",
        "gnb.fit(X,y)\n",
        "print(gnb)"
      ],
      "execution_count": 9,
      "outputs": [
        {
          "output_type": "stream",
          "text": [
            "MultinomialNB(alpha=1.0, class_prior=None, fit_prior=True)\n",
            "GaussianNB(priors=None, var_smoothing=1e-09)\n"
          ],
          "name": "stdout"
        }
      ]
    },
    {
      "cell_type": "markdown",
      "metadata": {
        "id": "4T4fsBTE6Eoo",
        "colab_type": "text"
      },
      "source": [
        "### Scoring Both Models"
      ]
    },
    {
      "cell_type": "code",
      "metadata": {
        "id": "OYNB-w2e5-s7",
        "colab_type": "code",
        "outputId": "8f3d6c79-9f74-4b1d-f0b5-138400070e40",
        "colab": {
          "base_uri": "https://localhost:8080/",
          "height": 50
        }
      },
      "source": [
        "print(mnb.score(X,y))\n",
        "print(gnb.score(X,y))"
      ],
      "execution_count": 10,
      "outputs": [
        {
          "output_type": "stream",
          "text": [
            "0.9053978853644964\n",
            "0.8580968280467446\n"
          ],
          "name": "stdout"
        }
      ]
    },
    {
      "cell_type": "code",
      "metadata": {
        "id": "M_-TAe536lfi",
        "colab_type": "code",
        "outputId": "29e3bf44-5ce6-4b7a-d864-5b8add3ff49c",
        "colab": {
          "base_uri": "https://localhost:8080/",
          "height": 84
        }
      },
      "source": [
        "print(\"Gaussian :\")\n",
        "print(cross_val_score(gnb,X,y,scoring=\"accuracy\",cv=10).mean())\n",
        "print(\"Multinomial: \")\n",
        "print(cross_val_score(mnb,X,y,scoring=\"accuracy\",cv=10).mean())"
      ],
      "execution_count": 11,
      "outputs": [
        {
          "output_type": "stream",
          "text": [
            "Gaussian :\n",
            "0.8113904407200497\n",
            "Multinomial: \n",
            "0.8797858472998138\n"
          ],
          "name": "stdout"
        }
      ]
    },
    {
      "cell_type": "markdown",
      "metadata": {
        "id": "ez3Ev12i-5cl",
        "colab_type": "text"
      },
      "source": [
        "**MULTINOMIAL NB PERFORMS BETTER, BECAUSE EACH FEATURE IS DISCREATE VALUE**\n"
      ]
    }
  ]
}